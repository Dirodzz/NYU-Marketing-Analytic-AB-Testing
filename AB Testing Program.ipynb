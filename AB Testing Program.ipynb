{
 "cells": [
  {
   "cell_type": "code",
   "execution_count": 119,
   "metadata": {},
   "outputs": [],
   "source": [
    "import pandas as pd\n",
    "from scipy import stats\n",
    "import math\n",
    "import matplotlib.pyplot as plt\n",
    "from random import sample"
   ]
  },
  {
   "cell_type": "code",
   "execution_count": 3,
   "metadata": {},
   "outputs": [],
   "source": [
    "df = pd.read_csv('AB_test_data.csv')"
   ]
  },
  {
   "cell_type": "code",
   "execution_count": 4,
   "metadata": {},
   "outputs": [
    {
     "data": {
      "text/html": [
       "<div>\n",
       "<style scoped>\n",
       "    .dataframe tbody tr th:only-of-type {\n",
       "        vertical-align: middle;\n",
       "    }\n",
       "\n",
       "    .dataframe tbody tr th {\n",
       "        vertical-align: top;\n",
       "    }\n",
       "\n",
       "    .dataframe thead th {\n",
       "        text-align: right;\n",
       "    }\n",
       "</style>\n",
       "<table border=\"1\" class=\"dataframe\">\n",
       "  <thead>\n",
       "    <tr style=\"text-align: right;\">\n",
       "      <th></th>\n",
       "      <th>Variant</th>\n",
       "      <th>purchase_TF</th>\n",
       "      <th>date</th>\n",
       "      <th>id</th>\n",
       "    </tr>\n",
       "  </thead>\n",
       "  <tbody>\n",
       "    <tr>\n",
       "      <th>0</th>\n",
       "      <td>A</td>\n",
       "      <td>False</td>\n",
       "      <td>2019-12-26</td>\n",
       "      <td>0x6f9421</td>\n",
       "    </tr>\n",
       "    <tr>\n",
       "      <th>1</th>\n",
       "      <td>A</td>\n",
       "      <td>False</td>\n",
       "      <td>2019-08-16</td>\n",
       "      <td>0x59d442</td>\n",
       "    </tr>\n",
       "    <tr>\n",
       "      <th>2</th>\n",
       "      <td>A</td>\n",
       "      <td>True</td>\n",
       "      <td>2019-03-18</td>\n",
       "      <td>0x6db8f8</td>\n",
       "    </tr>\n",
       "    <tr>\n",
       "      <th>3</th>\n",
       "      <td>A</td>\n",
       "      <td>False</td>\n",
       "      <td>2019-02-13</td>\n",
       "      <td>0x68245d</td>\n",
       "    </tr>\n",
       "    <tr>\n",
       "      <th>4</th>\n",
       "      <td>A</td>\n",
       "      <td>False</td>\n",
       "      <td>2019-09-28</td>\n",
       "      <td>0x28566e</td>\n",
       "    </tr>\n",
       "    <tr>\n",
       "      <th>...</th>\n",
       "      <td>...</td>\n",
       "      <td>...</td>\n",
       "      <td>...</td>\n",
       "      <td>...</td>\n",
       "    </tr>\n",
       "    <tr>\n",
       "      <th>54995</th>\n",
       "      <td>A</td>\n",
       "      <td>False</td>\n",
       "      <td>2019-06-19</td>\n",
       "      <td>0x451451</td>\n",
       "    </tr>\n",
       "    <tr>\n",
       "      <th>54996</th>\n",
       "      <td>A</td>\n",
       "      <td>False</td>\n",
       "      <td>2019-03-22</td>\n",
       "      <td>0x871d51</td>\n",
       "    </tr>\n",
       "    <tr>\n",
       "      <th>54997</th>\n",
       "      <td>A</td>\n",
       "      <td>False</td>\n",
       "      <td>2019-02-10</td>\n",
       "      <td>0x50d163</td>\n",
       "    </tr>\n",
       "    <tr>\n",
       "      <th>54998</th>\n",
       "      <td>B</td>\n",
       "      <td>False</td>\n",
       "      <td>2020-01-09</td>\n",
       "      <td>0x3544c4</td>\n",
       "    </tr>\n",
       "    <tr>\n",
       "      <th>54999</th>\n",
       "      <td>A</td>\n",
       "      <td>False</td>\n",
       "      <td>2019-09-05</td>\n",
       "      <td>0x983331</td>\n",
       "    </tr>\n",
       "  </tbody>\n",
       "</table>\n",
       "<p>55000 rows × 4 columns</p>\n",
       "</div>"
      ],
      "text/plain": [
       "      Variant  purchase_TF        date        id\n",
       "0           A        False  2019-12-26  0x6f9421\n",
       "1           A        False  2019-08-16  0x59d442\n",
       "2           A         True  2019-03-18  0x6db8f8\n",
       "3           A        False  2019-02-13  0x68245d\n",
       "4           A        False  2019-09-28  0x28566e\n",
       "...       ...          ...         ...       ...\n",
       "54995       A        False  2019-06-19  0x451451\n",
       "54996       A        False  2019-03-22  0x871d51\n",
       "54997       A        False  2019-02-10  0x50d163\n",
       "54998       B        False  2020-01-09  0x3544c4\n",
       "54999       A        False  2019-09-05  0x983331\n",
       "\n",
       "[55000 rows x 4 columns]"
      ]
     },
     "execution_count": 4,
     "metadata": {},
     "output_type": "execute_result"
    }
   ],
   "source": [
    "df"
   ]
  },
  {
   "cell_type": "code",
   "execution_count": 5,
   "metadata": {},
   "outputs": [
    {
     "data": {
      "text/plain": [
       "A    50000\n",
       "B     5000\n",
       "Name: Variant, dtype: int64"
      ]
     },
     "execution_count": 5,
     "metadata": {},
     "output_type": "execute_result"
    }
   ],
   "source": [
    "df['Variant'].value_counts()"
   ]
  },
  {
   "cell_type": "code",
   "execution_count": 6,
   "metadata": {},
   "outputs": [],
   "source": [
    "df_pop = df.loc[df['Variant'] == 'A']\n",
    "df_sample = df.loc[df['Variant'] == 'B']"
   ]
  },
  {
   "cell_type": "code",
   "execution_count": 7,
   "metadata": {},
   "outputs": [
    {
     "data": {
      "text/plain": [
       "False    42397\n",
       "True      7603\n",
       "Name: purchase_TF, dtype: int64"
      ]
     },
     "execution_count": 7,
     "metadata": {},
     "output_type": "execute_result"
    }
   ],
   "source": [
    "df_pop['purchase_TF'].value_counts()"
   ]
  },
  {
   "cell_type": "code",
   "execution_count": 8,
   "metadata": {},
   "outputs": [],
   "source": [
    "# Setting up null hypo\n",
    "\n",
    "pop_t = df_pop['purchase_TF'].value_counts()[1]\n",
    "pop_f = df_pop['purchase_TF'].value_counts()[0]\n",
    "\n",
    "pop_port = pop_t/df_pop.shape[0]"
   ]
  },
  {
   "cell_type": "code",
   "execution_count": 9,
   "metadata": {},
   "outputs": [
    {
     "data": {
      "text/plain": [
       "0.15206"
      ]
     },
     "execution_count": 9,
     "metadata": {},
     "output_type": "execute_result"
    }
   ],
   "source": [
    "pop_port"
   ]
  },
  {
   "cell_type": "code",
   "execution_count": 10,
   "metadata": {},
   "outputs": [
    {
     "data": {
      "text/plain": [
       "False    4019\n",
       "True      981\n",
       "Name: purchase_TF, dtype: int64"
      ]
     },
     "execution_count": 10,
     "metadata": {},
     "output_type": "execute_result"
    }
   ],
   "source": [
    "df_sample['purchase_TF'].value_counts()"
   ]
  },
  {
   "cell_type": "code",
   "execution_count": 11,
   "metadata": {},
   "outputs": [],
   "source": [
    "samp_t = df_sample['purchase_TF'].value_counts()[1]\n",
    "samp_f = df_sample['purchase_TF'].value_counts()[0]"
   ]
  },
  {
   "cell_type": "code",
   "execution_count": 12,
   "metadata": {},
   "outputs": [
    {
     "data": {
      "text/plain": [
       "5.04855132322832e-17"
      ]
     },
     "execution_count": 12,
     "metadata": {},
     "output_type": "execute_result"
    }
   ],
   "source": [
    "# Calculate p value\n",
    "\n",
    "stats.binom_test((samp_t, samp_f), p=pop_port, alternative='two-sided')"
   ]
  },
  {
   "cell_type": "markdown",
   "metadata": {},
   "source": [
    "#### Manual Calculation for Z"
   ]
  },
  {
   "cell_type": "code",
   "execution_count": 13,
   "metadata": {},
   "outputs": [
    {
     "data": {
      "text/plain": [
       "0.1962"
      ]
     },
     "execution_count": 13,
     "metadata": {},
     "output_type": "execute_result"
    }
   ],
   "source": [
    "# Sample p\n",
    "981/5000"
   ]
  },
  {
   "cell_type": "code",
   "execution_count": 14,
   "metadata": {
    "scrolled": true
   },
   "outputs": [
    {
     "data": {
      "text/plain": [
       "0.15206"
      ]
     },
     "execution_count": 14,
     "metadata": {},
     "output_type": "execute_result"
    }
   ],
   "source": [
    "# population p\n",
    "7603/50000"
   ]
  },
  {
   "cell_type": "markdown",
   "metadata": {},
   "source": [
    "#### If Variant A and B are two samples"
   ]
  },
  {
   "cell_type": "code",
   "execution_count": 15,
   "metadata": {},
   "outputs": [
    {
     "data": {
      "text/plain": [
       "0.15607272727272728"
      ]
     },
     "execution_count": 15,
     "metadata": {},
     "output_type": "execute_result"
    }
   ],
   "source": [
    "# p*\n",
    "\n",
    "((50000 * 0.15206) + (5000 * 0.1962))/(50000 + 5000)"
   ]
  },
  {
   "cell_type": "code",
   "execution_count": 16,
   "metadata": {},
   "outputs": [
    {
     "data": {
      "text/plain": [
       "28.523160969366018"
      ]
     },
     "execution_count": 16,
     "metadata": {},
     "output_type": "execute_result"
    }
   ],
   "source": [
    "(0.1962 - 0.15206)/math.sqrt((0.15607272727272728 * (1-0.15607272727272728))/(50000+5000))"
   ]
  },
  {
   "cell_type": "code",
   "execution_count": 17,
   "metadata": {},
   "outputs": [
    {
     "data": {
      "text/plain": [
       "0.0"
      ]
     },
     "execution_count": 17,
     "metadata": {},
     "output_type": "execute_result"
    }
   ],
   "source": [
    "(1 - stats.norm(0,1).cdf(28.523160969366018))*2"
   ]
  },
  {
   "cell_type": "markdown",
   "metadata": {},
   "source": [
    "#### If Variant A  is population and B is the sample"
   ]
  },
  {
   "cell_type": "code",
   "execution_count": 18,
   "metadata": {},
   "outputs": [
    {
     "data": {
      "text/plain": [
       "27.48699582798793"
      ]
     },
     "execution_count": 18,
     "metadata": {},
     "output_type": "execute_result"
    }
   ],
   "source": [
    "(0.1962 - 0.15206)/math.sqrt((0.15206 * (1-0.15206))/(50000))"
   ]
  },
  {
   "cell_type": "code",
   "execution_count": 19,
   "metadata": {},
   "outputs": [
    {
     "data": {
      "text/plain": [
       "0.0"
      ]
     },
     "execution_count": 19,
     "metadata": {},
     "output_type": "execute_result"
    }
   ],
   "source": [
    "(1 - stats.norm(0,1).cdf(27.48699582798793))*2"
   ]
  },
  {
   "cell_type": "markdown",
   "metadata": {},
   "source": [
    "#### Check if Time matters"
   ]
  },
  {
   "cell_type": "code",
   "execution_count": 20,
   "metadata": {
    "scrolled": false
   },
   "outputs": [
    {
     "data": {
      "text/html": [
       "<div>\n",
       "<style scoped>\n",
       "    .dataframe tbody tr th:only-of-type {\n",
       "        vertical-align: middle;\n",
       "    }\n",
       "\n",
       "    .dataframe tbody tr th {\n",
       "        vertical-align: top;\n",
       "    }\n",
       "\n",
       "    .dataframe thead th {\n",
       "        text-align: right;\n",
       "    }\n",
       "</style>\n",
       "<table border=\"1\" class=\"dataframe\">\n",
       "  <thead>\n",
       "    <tr style=\"text-align: right;\">\n",
       "      <th></th>\n",
       "      <th></th>\n",
       "      <th></th>\n",
       "      <th>id</th>\n",
       "    </tr>\n",
       "    <tr>\n",
       "      <th>date</th>\n",
       "      <th>Variant</th>\n",
       "      <th>purchase_TF</th>\n",
       "      <th></th>\n",
       "    </tr>\n",
       "  </thead>\n",
       "  <tbody>\n",
       "    <tr>\n",
       "      <th rowspan=\"2\" valign=\"top\">2019-01-01</th>\n",
       "      <th rowspan=\"2\" valign=\"top\">A</th>\n",
       "      <th>False</th>\n",
       "      <td>114</td>\n",
       "    </tr>\n",
       "    <tr>\n",
       "      <th>True</th>\n",
       "      <td>21</td>\n",
       "    </tr>\n",
       "    <tr>\n",
       "      <th rowspan=\"2\" valign=\"top\">2019-01-02</th>\n",
       "      <th rowspan=\"2\" valign=\"top\">A</th>\n",
       "      <th>False</th>\n",
       "      <td>90</td>\n",
       "    </tr>\n",
       "    <tr>\n",
       "      <th>True</th>\n",
       "      <td>24</td>\n",
       "    </tr>\n",
       "    <tr>\n",
       "      <th>2019-01-03</th>\n",
       "      <th>A</th>\n",
       "      <th>False</th>\n",
       "      <td>102</td>\n",
       "    </tr>\n",
       "    <tr>\n",
       "      <th>...</th>\n",
       "      <th>...</th>\n",
       "      <th>...</th>\n",
       "      <td>...</td>\n",
       "    </tr>\n",
       "    <tr>\n",
       "      <th>2020-01-29</th>\n",
       "      <th>B</th>\n",
       "      <th>True</th>\n",
       "      <td>41</td>\n",
       "    </tr>\n",
       "    <tr>\n",
       "      <th rowspan=\"4\" valign=\"top\">2020-01-30</th>\n",
       "      <th rowspan=\"2\" valign=\"top\">A</th>\n",
       "      <th>False</th>\n",
       "      <td>119</td>\n",
       "    </tr>\n",
       "    <tr>\n",
       "      <th>True</th>\n",
       "      <td>18</td>\n",
       "    </tr>\n",
       "    <tr>\n",
       "      <th rowspan=\"2\" valign=\"top\">B</th>\n",
       "      <th>False</th>\n",
       "      <td>138</td>\n",
       "    </tr>\n",
       "    <tr>\n",
       "      <th>True</th>\n",
       "      <td>34</td>\n",
       "    </tr>\n",
       "  </tbody>\n",
       "</table>\n",
       "<p>850 rows × 1 columns</p>\n",
       "</div>"
      ],
      "text/plain": [
       "                                 id\n",
       "date       Variant purchase_TF     \n",
       "2019-01-01 A       False        114\n",
       "                   True          21\n",
       "2019-01-02 A       False         90\n",
       "                   True          24\n",
       "2019-01-03 A       False        102\n",
       "...                             ...\n",
       "2020-01-29 B       True          41\n",
       "2020-01-30 A       False        119\n",
       "                   True          18\n",
       "           B       False        138\n",
       "                   True          34\n",
       "\n",
       "[850 rows x 1 columns]"
      ]
     },
     "execution_count": 20,
     "metadata": {},
     "output_type": "execute_result"
    }
   ],
   "source": [
    "df.groupby(['date','Variant','purchase_TF']).count()"
   ]
  },
  {
   "cell_type": "code",
   "execution_count": 21,
   "metadata": {},
   "outputs": [
    {
     "data": {
      "text/plain": [
       "Variant        object\n",
       "purchase_TF      bool\n",
       "date           object\n",
       "id             object\n",
       "dtype: object"
      ]
     },
     "execution_count": 21,
     "metadata": {},
     "output_type": "execute_result"
    }
   ],
   "source": [
    "df.dtypes"
   ]
  },
  {
   "cell_type": "code",
   "execution_count": 22,
   "metadata": {},
   "outputs": [],
   "source": [
    "df['date'] = pd.to_datetime(df['date'])"
   ]
  },
  {
   "cell_type": "code",
   "execution_count": 23,
   "metadata": {
    "scrolled": false
   },
   "outputs": [],
   "source": [
    "df_date_count = df.loc[df['date'] >= '2020-01-01'].groupby(['date','Variant','purchase_TF']).count().reset_index()"
   ]
  },
  {
   "cell_type": "code",
   "execution_count": 24,
   "metadata": {},
   "outputs": [
    {
     "data": {
      "text/html": [
       "<div>\n",
       "<style scoped>\n",
       "    .dataframe tbody tr th:only-of-type {\n",
       "        vertical-align: middle;\n",
       "    }\n",
       "\n",
       "    .dataframe tbody tr th {\n",
       "        vertical-align: top;\n",
       "    }\n",
       "\n",
       "    .dataframe thead th {\n",
       "        text-align: right;\n",
       "    }\n",
       "</style>\n",
       "<table border=\"1\" class=\"dataframe\">\n",
       "  <thead>\n",
       "    <tr style=\"text-align: right;\">\n",
       "      <th></th>\n",
       "      <th>date</th>\n",
       "      <th>Variant</th>\n",
       "      <th>purchase_TF</th>\n",
       "      <th>id</th>\n",
       "    </tr>\n",
       "  </thead>\n",
       "  <tbody>\n",
       "    <tr>\n",
       "      <th>0</th>\n",
       "      <td>2020-01-01</td>\n",
       "      <td>A</td>\n",
       "      <td>False</td>\n",
       "      <td>108</td>\n",
       "    </tr>\n",
       "    <tr>\n",
       "      <th>1</th>\n",
       "      <td>2020-01-01</td>\n",
       "      <td>A</td>\n",
       "      <td>True</td>\n",
       "      <td>12</td>\n",
       "    </tr>\n",
       "    <tr>\n",
       "      <th>2</th>\n",
       "      <td>2020-01-01</td>\n",
       "      <td>B</td>\n",
       "      <td>False</td>\n",
       "      <td>127</td>\n",
       "    </tr>\n",
       "    <tr>\n",
       "      <th>3</th>\n",
       "      <td>2020-01-01</td>\n",
       "      <td>B</td>\n",
       "      <td>True</td>\n",
       "      <td>33</td>\n",
       "    </tr>\n",
       "    <tr>\n",
       "      <th>4</th>\n",
       "      <td>2020-01-02</td>\n",
       "      <td>A</td>\n",
       "      <td>False</td>\n",
       "      <td>118</td>\n",
       "    </tr>\n",
       "    <tr>\n",
       "      <th>...</th>\n",
       "      <td>...</td>\n",
       "      <td>...</td>\n",
       "      <td>...</td>\n",
       "      <td>...</td>\n",
       "    </tr>\n",
       "    <tr>\n",
       "      <th>115</th>\n",
       "      <td>2020-01-29</td>\n",
       "      <td>B</td>\n",
       "      <td>True</td>\n",
       "      <td>41</td>\n",
       "    </tr>\n",
       "    <tr>\n",
       "      <th>116</th>\n",
       "      <td>2020-01-30</td>\n",
       "      <td>A</td>\n",
       "      <td>False</td>\n",
       "      <td>119</td>\n",
       "    </tr>\n",
       "    <tr>\n",
       "      <th>117</th>\n",
       "      <td>2020-01-30</td>\n",
       "      <td>A</td>\n",
       "      <td>True</td>\n",
       "      <td>18</td>\n",
       "    </tr>\n",
       "    <tr>\n",
       "      <th>118</th>\n",
       "      <td>2020-01-30</td>\n",
       "      <td>B</td>\n",
       "      <td>False</td>\n",
       "      <td>138</td>\n",
       "    </tr>\n",
       "    <tr>\n",
       "      <th>119</th>\n",
       "      <td>2020-01-30</td>\n",
       "      <td>B</td>\n",
       "      <td>True</td>\n",
       "      <td>34</td>\n",
       "    </tr>\n",
       "  </tbody>\n",
       "</table>\n",
       "<p>120 rows × 4 columns</p>\n",
       "</div>"
      ],
      "text/plain": [
       "          date Variant  purchase_TF   id\n",
       "0   2020-01-01       A        False  108\n",
       "1   2020-01-01       A         True   12\n",
       "2   2020-01-01       B        False  127\n",
       "3   2020-01-01       B         True   33\n",
       "4   2020-01-02       A        False  118\n",
       "..         ...     ...          ...  ...\n",
       "115 2020-01-29       B         True   41\n",
       "116 2020-01-30       A        False  119\n",
       "117 2020-01-30       A         True   18\n",
       "118 2020-01-30       B        False  138\n",
       "119 2020-01-30       B         True   34\n",
       "\n",
       "[120 rows x 4 columns]"
      ]
     },
     "execution_count": 24,
     "metadata": {},
     "output_type": "execute_result"
    }
   ],
   "source": [
    "df_date_count"
   ]
  },
  {
   "cell_type": "code",
   "execution_count": 26,
   "metadata": {},
   "outputs": [
    {
     "data": {
      "text/plain": [
       "<matplotlib.legend.Legend at 0x13423170>"
      ]
     },
     "execution_count": 26,
     "metadata": {},
     "output_type": "execute_result"
    },
    {
     "data": {
      "image/png": "[encoded data removed]",
      "text/plain": [
       "<Figure size 432x288 with 1 Axes>"
      ]
     },
     "metadata": {
      "needs_background": "light"
     },
     "output_type": "display_data"
    }
   ],
   "source": [
    "groups = df_date_count[df_date_count['purchase_TF'] == True].groupby(\"Variant\")\n",
    "for name, group in groups:\n",
    "    plt.plot(group[\"date\"], group[\"id\"], marker=\"o\", linestyle=\"\", label=name)\n",
    "plt.legend()\n"
   ]
  },
  {
   "cell_type": "code",
   "execution_count": 27,
   "metadata": {},
   "outputs": [
    {
     "data": {
      "text/plain": [
       "<matplotlib.legend.Legend at 0x12288cd0>"
      ]
     },
     "execution_count": 27,
     "metadata": {},
     "output_type": "execute_result"
    },
    {
     "data": {
      "image/png": "[encoded data removed]",
      "text/plain": [
       "<Figure size 432x288 with 1 Axes>"
      ]
     },
     "metadata": {
      "needs_background": "light"
     },
     "output_type": "display_data"
    }
   ],
   "source": [
    "groups = df_date_count[df_date_count['purchase_TF'] == False].groupby(\"Variant\")\n",
    "for name, group in groups:\n",
    "    plt.plot(group[\"date\"], group[\"id\"], marker=\"o\", linestyle=\"\", label=name)\n",
    "plt.legend()\n"
   ]
  },
  {
   "cell_type": "markdown",
   "metadata": {},
   "source": [
    "#### Did not find a clear seasonality behaviour"
   ]
  },
  {
   "cell_type": "markdown",
   "metadata": {},
   "source": [
    "### Question 1. A/B Test"
   ]
  },
  {
   "cell_type": "code",
   "execution_count": 28,
   "metadata": {},
   "outputs": [
    {
     "data": {
      "text/html": [
       "<div>\n",
       "<style scoped>\n",
       "    .dataframe tbody tr th:only-of-type {\n",
       "        vertical-align: middle;\n",
       "    }\n",
       "\n",
       "    .dataframe tbody tr th {\n",
       "        vertical-align: top;\n",
       "    }\n",
       "\n",
       "    .dataframe thead th {\n",
       "        text-align: right;\n",
       "    }\n",
       "</style>\n",
       "<table border=\"1\" class=\"dataframe\">\n",
       "  <thead>\n",
       "    <tr style=\"text-align: right;\">\n",
       "      <th></th>\n",
       "      <th>date</th>\n",
       "      <th>Variant</th>\n",
       "      <th>purchase_TF</th>\n",
       "      <th>id</th>\n",
       "    </tr>\n",
       "  </thead>\n",
       "  <tbody>\n",
       "    <tr>\n",
       "      <th>0</th>\n",
       "      <td>2020-01-01</td>\n",
       "      <td>A</td>\n",
       "      <td>False</td>\n",
       "      <td>108</td>\n",
       "    </tr>\n",
       "    <tr>\n",
       "      <th>1</th>\n",
       "      <td>2020-01-01</td>\n",
       "      <td>A</td>\n",
       "      <td>True</td>\n",
       "      <td>12</td>\n",
       "    </tr>\n",
       "    <tr>\n",
       "      <th>2</th>\n",
       "      <td>2020-01-01</td>\n",
       "      <td>B</td>\n",
       "      <td>False</td>\n",
       "      <td>127</td>\n",
       "    </tr>\n",
       "    <tr>\n",
       "      <th>3</th>\n",
       "      <td>2020-01-01</td>\n",
       "      <td>B</td>\n",
       "      <td>True</td>\n",
       "      <td>33</td>\n",
       "    </tr>\n",
       "    <tr>\n",
       "      <th>4</th>\n",
       "      <td>2020-01-02</td>\n",
       "      <td>A</td>\n",
       "      <td>False</td>\n",
       "      <td>118</td>\n",
       "    </tr>\n",
       "    <tr>\n",
       "      <th>...</th>\n",
       "      <td>...</td>\n",
       "      <td>...</td>\n",
       "      <td>...</td>\n",
       "      <td>...</td>\n",
       "    </tr>\n",
       "    <tr>\n",
       "      <th>115</th>\n",
       "      <td>2020-01-29</td>\n",
       "      <td>B</td>\n",
       "      <td>True</td>\n",
       "      <td>41</td>\n",
       "    </tr>\n",
       "    <tr>\n",
       "      <th>116</th>\n",
       "      <td>2020-01-30</td>\n",
       "      <td>A</td>\n",
       "      <td>False</td>\n",
       "      <td>119</td>\n",
       "    </tr>\n",
       "    <tr>\n",
       "      <th>117</th>\n",
       "      <td>2020-01-30</td>\n",
       "      <td>A</td>\n",
       "      <td>True</td>\n",
       "      <td>18</td>\n",
       "    </tr>\n",
       "    <tr>\n",
       "      <th>118</th>\n",
       "      <td>2020-01-30</td>\n",
       "      <td>B</td>\n",
       "      <td>False</td>\n",
       "      <td>138</td>\n",
       "    </tr>\n",
       "    <tr>\n",
       "      <th>119</th>\n",
       "      <td>2020-01-30</td>\n",
       "      <td>B</td>\n",
       "      <td>True</td>\n",
       "      <td>34</td>\n",
       "    </tr>\n",
       "  </tbody>\n",
       "</table>\n",
       "<p>120 rows × 4 columns</p>\n",
       "</div>"
      ],
      "text/plain": [
       "          date Variant  purchase_TF   id\n",
       "0   2020-01-01       A        False  108\n",
       "1   2020-01-01       A         True   12\n",
       "2   2020-01-01       B        False  127\n",
       "3   2020-01-01       B         True   33\n",
       "4   2020-01-02       A        False  118\n",
       "..         ...     ...          ...  ...\n",
       "115 2020-01-29       B         True   41\n",
       "116 2020-01-30       A        False  119\n",
       "117 2020-01-30       A         True   18\n",
       "118 2020-01-30       B        False  138\n",
       "119 2020-01-30       B         True   34\n",
       "\n",
       "[120 rows x 4 columns]"
      ]
     },
     "execution_count": 28,
     "metadata": {},
     "output_type": "execute_result"
    }
   ],
   "source": [
    "df_date_count"
   ]
  },
  {
   "cell_type": "code",
   "execution_count": 31,
   "metadata": {},
   "outputs": [
    {
     "data": {
      "text/html": [
       "<div>\n",
       "<style scoped>\n",
       "    .dataframe tbody tr th:only-of-type {\n",
       "        vertical-align: middle;\n",
       "    }\n",
       "\n",
       "    .dataframe tbody tr th {\n",
       "        vertical-align: top;\n",
       "    }\n",
       "\n",
       "    .dataframe thead th {\n",
       "        text-align: right;\n",
       "    }\n",
       "</style>\n",
       "<table border=\"1\" class=\"dataframe\">\n",
       "  <thead>\n",
       "    <tr style=\"text-align: right;\">\n",
       "      <th></th>\n",
       "      <th></th>\n",
       "      <th></th>\n",
       "      <th>id</th>\n",
       "    </tr>\n",
       "    <tr>\n",
       "      <th>date</th>\n",
       "      <th>Variant</th>\n",
       "      <th>purchase_TF</th>\n",
       "      <th></th>\n",
       "    </tr>\n",
       "  </thead>\n",
       "  <tbody>\n",
       "    <tr>\n",
       "      <th rowspan=\"2\" valign=\"top\">2019-01-01</th>\n",
       "      <th rowspan=\"2\" valign=\"top\">A</th>\n",
       "      <th>False</th>\n",
       "      <td>114</td>\n",
       "    </tr>\n",
       "    <tr>\n",
       "      <th>True</th>\n",
       "      <td>21</td>\n",
       "    </tr>\n",
       "  </tbody>\n",
       "</table>\n",
       "</div>"
      ],
      "text/plain": [
       "                                 id\n",
       "date       Variant purchase_TF     \n",
       "2019-01-01 A       False        114\n",
       "                   True          21"
      ]
     },
     "execution_count": 31,
     "metadata": {},
     "output_type": "execute_result"
    }
   ],
   "source": [
    "df[df['date'] == '2019-01-01'].groupby(['date','Variant','purchase_TF']).count()"
   ]
  },
  {
   "cell_type": "markdown",
   "metadata": {},
   "source": [
    "#### Should we use booking per day as hypothesis? or conversion rate per day?  or overall conversion rate? "
   ]
  },
  {
   "cell_type": "code",
   "execution_count": 40,
   "metadata": {},
   "outputs": [
    {
     "data": {
      "text/plain": [
       "3821"
      ]
     },
     "execution_count": 40,
     "metadata": {},
     "output_type": "execute_result"
    }
   ],
   "source": [
    "df.loc[(df['Variant'] == 'A') & (df['date'] >= '2020-01-01')]['purchase_TF'].shape[0]"
   ]
  },
  {
   "cell_type": "code",
   "execution_count": 36,
   "metadata": {
    "scrolled": true
   },
   "outputs": [
    {
     "data": {
      "text/plain": [
       "False    3234\n",
       "True      587\n",
       "Name: purchase_TF, dtype: int64"
      ]
     },
     "execution_count": 36,
     "metadata": {},
     "output_type": "execute_result"
    }
   ],
   "source": [
    "df.loc[(df['Variant'] == 'A') & (df['date'] >= '2020-01-01')]['purchase_TF'].value_counts()"
   ]
  },
  {
   "cell_type": "code",
   "execution_count": 38,
   "metadata": {},
   "outputs": [
    {
     "data": {
      "text/plain": [
       "0.15362470557445695"
      ]
     },
     "execution_count": 38,
     "metadata": {},
     "output_type": "execute_result"
    }
   ],
   "source": [
    "df.loc[(df['Variant'] == 'A') & (df['date'] >= '2020-01-01')]['purchase_TF'].value_counts()[1]/df.loc[(df['Variant'] == 'A') & (df['date'] >= '2020-01-01')]['purchase_TF'].shape[0]"
   ]
  },
  {
   "cell_type": "code",
   "execution_count": 39,
   "metadata": {},
   "outputs": [
    {
     "data": {
      "text/plain": [
       "0.1962"
      ]
     },
     "execution_count": 39,
     "metadata": {},
     "output_type": "execute_result"
    }
   ],
   "source": [
    "df.loc[(df['Variant'] == 'B') & (df['date'] >= '2020-01-01')]['purchase_TF'].value_counts()[1]/df.loc[(df['Variant'] == 'B') & (df['date'] >= '2020-01-01')]['purchase_TF'].shape[0]"
   ]
  },
  {
   "cell_type": "code",
   "execution_count": 41,
   "metadata": {},
   "outputs": [
    {
     "data": {
      "text/plain": [
       "0.17775762385217095"
      ]
     },
     "execution_count": 41,
     "metadata": {},
     "output_type": "execute_result"
    }
   ],
   "source": [
    "((3821 * 0.15362470557445695) + (5000 * 0.1962))/(3821 + 5000)"
   ]
  },
  {
   "cell_type": "code",
   "execution_count": 42,
   "metadata": {},
   "outputs": [
    {
     "data": {
      "text/plain": [
       "10.459297719441443"
      ]
     },
     "execution_count": 42,
     "metadata": {},
     "output_type": "execute_result"
    }
   ],
   "source": [
    "(0.1962 - 0.15362470557445695)/math.sqrt((0.17775762385217095 * (1-0.17775762385217095))/(3821+5000))"
   ]
  },
  {
   "cell_type": "code",
   "execution_count": 43,
   "metadata": {},
   "outputs": [
    {
     "data": {
      "text/plain": [
       "0.0"
      ]
     },
     "execution_count": 43,
     "metadata": {},
     "output_type": "execute_result"
    }
   ],
   "source": [
    "(1 - stats.norm(0,1).cdf(10.459297719441443))*2"
   ]
  },
  {
   "cell_type": "code",
   "execution_count": 136,
   "metadata": {},
   "outputs": [],
   "source": [
    "def hypo_test(df0, df1):\n",
    "    n0 = df0.shape[0]\n",
    "    n1 = df1.shape[0]\n",
    "    \n",
    "    p0 = df0['purchase_TF'].value_counts()[1]/n0\n",
    "    p1 = df1['purchase_TF'].value_counts()[1]/n1\n",
    "    \n",
    "    p_bar = (p0 * n0 + p1 * n1)/(n0 + n1)\n",
    "    \n",
    "    z = (p1 - p0)/math.sqrt((p_bar * (1 - p_bar))/(n0 + n1))\n",
    "    \n",
    "    print('z score is ' + str(z))\n",
    "    result = (1 - stats.norm(0,1).cdf(z))*2\n",
    "    \n",
    "    return result"
   ]
  },
  {
   "cell_type": "markdown",
   "metadata": {},
   "source": [
    "### Question 2. Optimal Sample Size"
   ]
  },
  {
   "cell_type": "code",
   "execution_count": 99,
   "metadata": {},
   "outputs": [
    {
     "data": {
      "text/plain": [
       "0.8416212335729143"
      ]
     },
     "execution_count": 99,
     "metadata": {},
     "output_type": "execute_result"
    }
   ],
   "source": [
    "stats.norm(0,1).ppf(0.8)"
   ]
  },
  {
   "cell_type": "code",
   "execution_count": 111,
   "metadata": {},
   "outputs": [],
   "source": [
    "# Assume variant A and B are two samples\n",
    "# Reference:\n",
    "# https://www.itl.nist.gov/div898/handbook/prc/section2/prc242.htm\n",
    "\n",
    "\n",
    "def optimal_sample_size(alpha, p0, p1, beta):\n",
    "    p_bar = p0 + p1\n",
    "    \n",
    "    delta = p1 - p0\n",
    "    \n",
    "    t_type1 = stats.norm(0,1).ppf(alpha/2) * -1 # multiply -1?\n",
    "    t_type2 = stats.norm(0,1).ppf(beta)\n",
    "    \n",
    "    result = ((t_type1 * ((2 * p_bar * (1 - p_bar)) ** 0.5)) + (t_type2 * ((p0 * (1 - p0) + p1 * (1 - p1)) ** 0.5)))** 2\n",
    "    \n",
    "    if delta != 0:\n",
    "        result = result / (delta**2)\n",
    "    \n",
    "    return result"
   ]
  },
  {
   "cell_type": "code",
   "execution_count": 112,
   "metadata": {},
   "outputs": [
    {
     "data": {
      "text/plain": [
       "1734.9248777613896"
      ]
     },
     "execution_count": 112,
     "metadata": {},
     "output_type": "execute_result"
    }
   ],
   "source": [
    "optimal_sample_size(0.05, 0.15362470557445695, 0.1962, 0.8)"
   ]
  },
  {
   "cell_type": "code",
   "execution_count": 121,
   "metadata": {},
   "outputs": [],
   "source": [
    "def sample_simulation(n, df):\n",
    "    '''\n",
    "    return ==> a dataframe with sample drawed\n",
    "    '''\n",
    "    df_a = df[df['Variant'] == 'A']\n",
    "    df_b = df[df['Variant'] == 'B']\n",
    "    \n",
    "    max_a = df_a.shape[0]\n",
    "    max_b = df_b.shape[0]\n",
    "    \n",
    "    pick_a = list(sample(range(0, max_a),round(n)))\n",
    "    pick_b = list(sample(range(0, max_b),round(n)))\n",
    "    \n",
    "    df_a_picked = df_a.iloc[pick_a]\n",
    "    df_b_picked = df_b.iloc[pick_b]\n",
    "    \n",
    "    result = df_a_picked.append(df_b_picked, ignore_index = True)\n",
    "    \n",
    "    return result"
   ]
  },
  {
   "cell_type": "code",
   "execution_count": 123,
   "metadata": {
    "scrolled": false
   },
   "outputs": [
    {
     "data": {
      "text/html": [
       "<div>\n",
       "<style scoped>\n",
       "    .dataframe tbody tr th:only-of-type {\n",
       "        vertical-align: middle;\n",
       "    }\n",
       "\n",
       "    .dataframe tbody tr th {\n",
       "        vertical-align: top;\n",
       "    }\n",
       "\n",
       "    .dataframe thead th {\n",
       "        text-align: right;\n",
       "    }\n",
       "</style>\n",
       "<table border=\"1\" class=\"dataframe\">\n",
       "  <thead>\n",
       "    <tr style=\"text-align: right;\">\n",
       "      <th></th>\n",
       "      <th>Variant</th>\n",
       "      <th>purchase_TF</th>\n",
       "      <th>date</th>\n",
       "      <th>id</th>\n",
       "    </tr>\n",
       "  </thead>\n",
       "  <tbody>\n",
       "    <tr>\n",
       "      <th>0</th>\n",
       "      <td>A</td>\n",
       "      <td>False</td>\n",
       "      <td>2020-01-02</td>\n",
       "      <td>0x3e8430</td>\n",
       "    </tr>\n",
       "    <tr>\n",
       "      <th>1</th>\n",
       "      <td>A</td>\n",
       "      <td>False</td>\n",
       "      <td>2020-01-10</td>\n",
       "      <td>0x46d856</td>\n",
       "    </tr>\n",
       "    <tr>\n",
       "      <th>2</th>\n",
       "      <td>A</td>\n",
       "      <td>False</td>\n",
       "      <td>2020-01-30</td>\n",
       "      <td>0x726889</td>\n",
       "    </tr>\n",
       "    <tr>\n",
       "      <th>3</th>\n",
       "      <td>A</td>\n",
       "      <td>False</td>\n",
       "      <td>2020-01-11</td>\n",
       "      <td>0x8f7d5b</td>\n",
       "    </tr>\n",
       "    <tr>\n",
       "      <th>4</th>\n",
       "      <td>A</td>\n",
       "      <td>True</td>\n",
       "      <td>2020-01-23</td>\n",
       "      <td>0x6af2de</td>\n",
       "    </tr>\n",
       "    <tr>\n",
       "      <th>...</th>\n",
       "      <td>...</td>\n",
       "      <td>...</td>\n",
       "      <td>...</td>\n",
       "      <td>...</td>\n",
       "    </tr>\n",
       "    <tr>\n",
       "      <th>3465</th>\n",
       "      <td>B</td>\n",
       "      <td>True</td>\n",
       "      <td>2020-01-13</td>\n",
       "      <td>0x280ae6</td>\n",
       "    </tr>\n",
       "    <tr>\n",
       "      <th>3466</th>\n",
       "      <td>B</td>\n",
       "      <td>False</td>\n",
       "      <td>2020-01-27</td>\n",
       "      <td>0x14fb38</td>\n",
       "    </tr>\n",
       "    <tr>\n",
       "      <th>3467</th>\n",
       "      <td>B</td>\n",
       "      <td>True</td>\n",
       "      <td>2020-01-08</td>\n",
       "      <td>0x934c02</td>\n",
       "    </tr>\n",
       "    <tr>\n",
       "      <th>3468</th>\n",
       "      <td>B</td>\n",
       "      <td>False</td>\n",
       "      <td>2020-01-24</td>\n",
       "      <td>0x85605c</td>\n",
       "    </tr>\n",
       "    <tr>\n",
       "      <th>3469</th>\n",
       "      <td>B</td>\n",
       "      <td>False</td>\n",
       "      <td>2020-01-07</td>\n",
       "      <td>0x5d7f95</td>\n",
       "    </tr>\n",
       "  </tbody>\n",
       "</table>\n",
       "<p>3470 rows × 4 columns</p>\n",
       "</div>"
      ],
      "text/plain": [
       "     Variant  purchase_TF       date        id\n",
       "0          A        False 2020-01-02  0x3e8430\n",
       "1          A        False 2020-01-10  0x46d856\n",
       "2          A        False 2020-01-30  0x726889\n",
       "3          A        False 2020-01-11  0x8f7d5b\n",
       "4          A         True 2020-01-23  0x6af2de\n",
       "...      ...          ...        ...       ...\n",
       "3465       B         True 2020-01-13  0x280ae6\n",
       "3466       B        False 2020-01-27  0x14fb38\n",
       "3467       B         True 2020-01-08  0x934c02\n",
       "3468       B        False 2020-01-24  0x85605c\n",
       "3469       B        False 2020-01-07  0x5d7f95\n",
       "\n",
       "[3470 rows x 4 columns]"
      ]
     },
     "execution_count": 123,
     "metadata": {},
     "output_type": "execute_result"
    }
   ],
   "source": [
    "sample_simulation(1734.9248777613896, df[df['date'] >= '2020-01-01'])"
   ]
  },
  {
   "cell_type": "code",
   "execution_count": 124,
   "metadata": {},
   "outputs": [],
   "source": [
    "test_1 = sample_simulation(1734.9248777613896, df[df['date'] >= '2020-01-01'])"
   ]
  },
  {
   "cell_type": "code",
   "execution_count": 129,
   "metadata": {},
   "outputs": [
    {
     "name": "stdout",
     "output_type": "stream",
     "text": [
      "8.813422099612417\n"
     ]
    },
    {
     "data": {
      "text/plain": [
       "0.0"
      ]
     },
     "execution_count": 129,
     "metadata": {},
     "output_type": "execute_result"
    }
   ],
   "source": [
    "hypo_test(test_1[test_1['Variant'] == 'A'], test_1[test_1['Variant'] == 'B'])"
   ]
  },
  {
   "cell_type": "code",
   "execution_count": 140,
   "metadata": {
    "scrolled": true
   },
   "outputs": [
    {
     "name": "stdout",
     "output_type": "stream",
     "text": [
      "z score is 5.7233708617758206\n",
      "1.0443095499468313e-08\n",
      "z score is 7.622886126849425\n",
      "2.4868995751603507e-14\n",
      "z score is 5.386782119483528\n",
      "7.173030036611294e-08\n",
      "z score is 7.953442680425239\n",
      "1.7763568394002505e-15\n",
      "z score is 8.070346698413834\n",
      "6.661338147750939e-16\n",
      "z score is 6.611137980242982\n",
      "3.81377152081086e-11\n",
      "z score is 6.121207955236667\n",
      "9.286860169765987e-10\n",
      "z score is 7.51927384765909\n",
      "5.5067062021407764e-14\n",
      "z score is 6.304630141235011\n",
      "2.8888291758732976e-10\n",
      "z score is 5.750032942327542\n",
      "8.9226062094383e-09\n"
     ]
    }
   ],
   "source": [
    "for i in range(10):\n",
    "    test = sample_simulation(1734.9248777613896, df[df['date'] >= '2020-01-01'])\n",
    "    \n",
    "    print(hypo_test(test[test['Variant'] == 'A'], test[test['Variant'] == 'B']))"
   ]
  },
  {
   "cell_type": "markdown",
   "metadata": {},
   "source": [
    "### Question 3. Sequential Test"
   ]
  },
  {
   "cell_type": "code",
   "execution_count": 174,
   "metadata": {},
   "outputs": [],
   "source": [
    "def SPRT(p0, p1, alpha, power, df):\n",
    "    log_a = math.log(1/(alpha/2))\n",
    "    log_b = math.log(1 - power)\n",
    "    \n",
    "    result = 0\n",
    "    \n",
    "    count = 0\n",
    "    \n",
    "    ran = df.shape[0]\n",
    "    \n",
    "    sam = list(sample(range(0, ran),ran))\n",
    "    \n",
    "    for index, row in df.iloc[sam].iterrows():\n",
    "        if row['purchase_TF'] == True:\n",
    "            result = result + math.log(p1/p0)\n",
    "        else:\n",
    "            result = result + math.log((1 - p1)/(1 - p0))\n",
    "        count += 1\n",
    "        \n",
    "        if (result >= log_a) or (result <= log_b):\n",
    "            break\n",
    "    \n",
    "    \n",
    "    if result >= log_a:\n",
    "        print('alternative is true')\n",
    "    if result <= log_b:\n",
    "        print('null hypo is true')\n",
    "        \n",
    "    if count == ran:\n",
    "        print('no solution reached')\n",
    "        \n",
    "    return count"
   ]
  },
  {
   "cell_type": "code",
   "execution_count": 169,
   "metadata": {},
   "outputs": [
    {
     "name": "stdout",
     "output_type": "stream",
     "text": [
      "alternative is true\n"
     ]
    },
    {
     "data": {
      "text/plain": [
       "881"
      ]
     },
     "execution_count": 169,
     "metadata": {},
     "output_type": "execute_result"
    }
   ],
   "source": [
    "SPRT(0.15362470557445695, 0.1962, 0.05, 0.8, df.loc[(df['Variant'] == 'B') & (df['date'] >= '2020-01-01')])"
   ]
  },
  {
   "cell_type": "code",
   "execution_count": 178,
   "metadata": {
    "scrolled": true
   },
   "outputs": [
    {
     "name": "stdout",
     "output_type": "stream",
     "text": [
      "alternative is true\n",
      "135\n",
      "alternative is true\n",
      "234\n",
      "null hypo is true\n",
      "52\n",
      "alternative is true\n",
      "223\n",
      "alternative is true\n",
      "633\n",
      "null hypo is true\n",
      "57\n",
      "alternative is true\n",
      "513\n",
      "alternative is true\n",
      "241\n",
      "alternative is true\n",
      "240\n",
      "alternative is true\n",
      "167\n",
      "alternative is true\n",
      "97\n",
      "null hypo is true\n",
      "137\n",
      "alternative is true\n",
      "119\n",
      "alternative is true\n",
      "615\n",
      "null hypo is true\n",
      "109\n",
      "null hypo is true\n",
      "148\n",
      "alternative is true\n",
      "406\n",
      "alternative is true\n",
      "785\n",
      "alternative is true\n",
      "371\n",
      "alternative is true\n",
      "155\n",
      "null hypo is true\n",
      "63\n",
      "null hypo is true\n",
      "160\n",
      "alternative is true\n",
      "439\n",
      "alternative is true\n",
      "483\n",
      "alternative is true\n",
      "91\n",
      "alternative is true\n",
      "389\n",
      "alternative is true\n",
      "263\n",
      "null hypo is true\n",
      "86\n",
      "alternative is true\n",
      "82\n",
      "alternative is true\n",
      "683\n"
     ]
    }
   ],
   "source": [
    "for i in range(30):\n",
    "    print(SPRT(0.15362470557445695, 0.2, 0.05, 0.8, df.loc[(df['Variant'] == 'B') & (df['date'] >= '2020-01-01')]))"
   ]
  },
  {
   "cell_type": "code",
   "execution_count": null,
   "metadata": {},
   "outputs": [],
   "source": []
  }
 ],
 "metadata": {
  "kernelspec": {
   "display_name": "local-env",
   "language": "python",
   "name": "local-env"
  },
  "language_info": {
   "codemirror_mode": {
    "name": "ipython",
    "version": 3
   },
   "file_extension": ".py",
   "mimetype": "text/x-python",
   "name": "python",
   "nbconvert_exporter": "python",
   "pygments_lexer": "ipython3",
   "version": "3.7.0"
  }
 },
 "nbformat": 4,
 "nbformat_minor": 4
}
